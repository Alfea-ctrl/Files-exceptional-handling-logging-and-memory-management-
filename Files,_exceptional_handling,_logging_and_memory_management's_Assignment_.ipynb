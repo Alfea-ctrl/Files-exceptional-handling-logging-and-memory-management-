{
  "nbformat": 4,
  "nbformat_minor": 0,
  "metadata": {
    "colab": {
      "provenance": []
    },
    "kernelspec": {
      "name": "python3",
      "display_name": "Python 3"
    },
    "language_info": {
      "name": "python"
    }
  },
  "cells": [
    {
      "cell_type": "code",
      "execution_count": null,
      "metadata": {
        "id": "vL6p701rf0qD"
      },
      "outputs": [],
      "source": []
    },
    {
      "cell_type": "markdown",
      "source": [
        "1. What is the difference between interpreted and compiled languages?\n",
        "\n",
        "  In simple terms, compiled languages convert the whole program into machine code before running (like C or Java), while interpreted languages like Python run the code line-by-line during execution. That’s why Python is more flexible, but sometimes slower.\n",
        "\n",
        "\n",
        " 2. What is exception handling in Python?\n",
        "\n",
        "  Exception handling is how we deal with unexpected errors in Python without crashing the program. We use try, except, finally, etc., to write safe and reliable code.\n",
        "\n",
        " 3. What is the purpose of the finally block in exception handling?\n",
        "\n",
        "  The finally block is used when we want some code to run no matter what — whether there's an error or not. It’s great for cleanup, like closing files.\n",
        "\n",
        "\n",
        "4. What is logging in Python?\n",
        "\n",
        "  Logging is used to record what's happening in our program — especially useful for debugging. Instead of printing, logging gives us better control and helps in maintaining real-world projects.\n",
        "\n",
        "5. What is the significance of the __del__ method in Python?\n",
        "\n",
        "  __del__ is a special method (destructor) that runs automatically when an object is deleted. We can use it to clean up or release resources.\n",
        "\n",
        "6. What is the difference between import and from ... import in Python?\n",
        "\n",
        "Ans\n",
        "\n",
        "1. import module: We access with module.function().\n",
        "\n",
        "2. from module import function: We use just function() directly.\n",
        "we  mostly use from ... import when we need just one or two things.\n",
        "\n",
        "\n",
        "7. How can you handle multiple exceptions in Python?\n",
        "\n",
        "  We can use multiple except blocks or group them\n",
        "\n",
        "8. What is the purpose of the with statement when handling files in Python?\n",
        "\n",
        "  It automatically opens and closes the file — no need to manually call file.close(). It’s safer and cleaner.\n",
        "\n",
        "9. What is the difference between multithreading and multiprocessing?\n",
        "\n",
        "  Multithreading: Used for tasks like downloading multiple things at once (same memory).\n",
        "\n",
        "  Multiprocessing: Better for CPU-heavy tasks (separate memory).\n",
        "\n",
        "10. What are the advantages of using logging in a program?\n",
        "\n",
        "a. It keeps a permanent record.\n",
        "\n",
        "b. We can control what to log (error/info/debug).\n",
        "\n",
        "c. It’s better than print for debugging big     programs.\n",
        "\n",
        "11. What is memory management in Python?\n",
        "\n",
        "  Memory management means how Python handles memory automatically. It creates, uses, and deletes memory blocks as per the need. Python uses techniques like reference counting and garbage collection, so we usually don’t worry about memory leaks.\n",
        "\n",
        " 12. What are the basic steps involved in exception handling in Python?\n",
        "\n",
        "  The steps are simple:\n",
        "\n",
        "a- try: risky code goes here\n",
        "\n",
        "b- except: what to do if error happens\n",
        "\n",
        "c-  else: runs only if no error happens\n",
        "\n",
        "d- finally: always runs\n",
        "  This structure gives full control to manage errors properly.\n",
        "\n",
        "\n",
        "13. Why is memory management important in Python?\n",
        "  Memory management is important Because if memory isn't managed, programs can become slow, or crash. Even though Python does it automatically, we should write clean code to avoid memory waste.\n",
        "\n",
        "14. What is the role of try and except in exception handling?\n",
        "\n",
        "  They are the core of error handling:\n",
        "\n",
        "a-try: wraps code that might throw error\n",
        "\n",
        "b-except: handles that error so program doesn’t  \n",
        "crash\n",
        " we use it often when working with user input or files.\n",
        "\n",
        "\n",
        "15. How does Python's garbage collection system work?\n",
        "\n",
        "  It uses reference counting—an object is deleted when no variable refers to it. Plus, Python has a garbage collector to clean up unused memory blocks, especially circular references.\n",
        "\n",
        "16. What is the purpose of the else block in exception handling?  \n",
        "\n",
        "  The else block runs only if no exception occurs. It's useful when I want to run code that should happen only when everything is fine inside try.\n",
        "\n",
        "\n",
        " 17. What are the common logging levels in Python?\n",
        "\n",
        "  The main levels are:\n",
        "\n",
        "  DEBUG: low-level info\n",
        "\n",
        "  INFO: general messages\n",
        "\n",
        "  WARNING: something unusual\n",
        "\n",
        "  ERROR: an error happened\n",
        "\n",
        "  CRITICAL: serious failure\n",
        "  These help organize logs clearly.\n",
        "\n",
        "18. What is the difference between os.fork() and multiprocessing in Python?\n",
        "\n",
        "  os.fork() creates a new process by duplicating the current one (Linux only).\n",
        "\n",
        "  multiprocessing works on Windows and Linux, and is more flexible and beginner-friendly.\n",
        "\n",
        "19. What is the importance of closing a file in Python?\n",
        "\n",
        " If we don’t close a file, it might cause memory leaks or the file may not save data properly. That’s why we either use f.close() or the with statement (which closes it automatically).\n",
        "\n",
        "\n",
        "🔹 20. What is the difference between file.read() and file.readline() in Python?\n",
        "file.read() → Reads the entire content at once.\n",
        "\n",
        "file.readline() → Reads only one line.\n",
        "So for large files, readline() is more memory-efficient.\n",
        "\n",
        "\n",
        "\n",
        " 21. What is the logging module in Python used for?\n",
        "\n",
        "  The logging module is used for tracking events, especially errors or flow of execution. Instead of using print, we use logging in real projects to log to files or with levels.\n",
        "\n",
        "22. What is the os module in Python used for in file handling?  \n",
        "\n",
        "  The os module helps us interact with the operating system — like creating folders, deleting files, checking if files exist, etc.\n",
        "\n",
        "23. What are the challenges associated with memory management in Python?\n",
        " Some challenges are:\n",
        "\n",
        " Unused objects might not get deleted (especially in loops)\n",
        "\n",
        " Circular references\n",
        "\n",
        " Overuse of memory in large applications\n",
        "\n",
        "We can fix this by writing efficient code and using tools like gc and memory_profiler.\n",
        "\n",
        "24. How do you raise an exception manually in Python?\n",
        " we use the raise keyword. For example:\n",
        "\n",
        " #raise ValueError(\"Invalid value entered\")\n",
        "\n",
        " This helps in stopping the code and showing meaningful errors.\n",
        "\n",
        "25. Why is it important to use multithreading in certain applications?\n",
        "\n",
        " Multithreading helps us to run multiple tasks simultaneously, especially when I/O is involved (like downloading files, reading sensors). It improves speed and responsiveness of the program.\n",
        "\n",
        "\n",
        "\n",
        "\n",
        "\n",
        "\n",
        "\n",
        "\n",
        "\n",
        "\n",
        "\n",
        "\n",
        "\n",
        "\n"
      ],
      "metadata": {
        "id": "JI7Oc_Ukf2sv"
      }
    },
    {
      "cell_type": "code",
      "source": [
        "# Q1: How can you open a file for writing in Python and write a string to it?\n",
        "\n",
        "with open(\"output.txt\", \"w\") as f:\n",
        "    f.write(\"Hello, this is  Alfiya's assignment!\")\n"
      ],
      "metadata": {
        "id": "K-hzJL7xlnyx"
      },
      "execution_count": 1,
      "outputs": []
    },
    {
      "cell_type": "code",
      "source": [
        "# Q2: Write a Python program to read the contents of a file and print each line\n",
        "\n",
        "with open(\"output.txt\", \"r\") as f:\n",
        "    for line in f:\n",
        "        print(line.strip())\n"
      ],
      "metadata": {
        "colab": {
          "base_uri": "https://localhost:8080/"
        },
        "id": "2DwrTEkJmHJN",
        "outputId": "e7359d49-9251-4594-aaae-ca9c92738255"
      },
      "execution_count": 2,
      "outputs": [
        {
          "output_type": "stream",
          "name": "stdout",
          "text": [
            "Hello, this is  Alfiya's assignment!\n"
          ]
        }
      ]
    },
    {
      "cell_type": "code",
      "source": [
        "# Q3: How would you handle a case where the file doesn't exist while trying to open it for reading?\n",
        "\n",
        "try:\n",
        "    with open(\"nonexistent.txt\", \"r\") as f:\n",
        "        content = f.read()\n",
        "except FileNotFoundError:\n",
        "    print(\"File not found. Please check the file name.\")\n",
        "\n"
      ],
      "metadata": {
        "colab": {
          "base_uri": "https://localhost:8080/"
        },
        "id": "Sc1I01WEmL_w",
        "outputId": "2635112b-e8ac-4dde-838e-a58b22dfc7cc"
      },
      "execution_count": 3,
      "outputs": [
        {
          "output_type": "stream",
          "name": "stdout",
          "text": [
            "File not found. Please check the file name.\n"
          ]
        }
      ]
    },
    {
      "cell_type": "code",
      "source": [
        "# Q4: Write a Python script that reads from one file and writes its content to another file\n",
        "\n",
        "with open(\"source.txt\", \"r\") as src, open(\"destination.txt\", \"w\") as dest:\n",
        "    dest.write(src.read())\n"
      ],
      "metadata": {
        "colab": {
          "base_uri": "https://localhost:8080/",
          "height": 193
        },
        "id": "m4t96hKkmbnd",
        "outputId": "18571af3-87c7-4d4b-e71a-80d0182a57df"
      },
      "execution_count": 5,
      "outputs": [
        {
          "output_type": "error",
          "ename": "FileNotFoundError",
          "evalue": "[Errno 2] No such file or directory: 'source.txt'",
          "traceback": [
            "\u001b[0;31m---------------------------------------------------------------------------\u001b[0m",
            "\u001b[0;31mFileNotFoundError\u001b[0m                         Traceback (most recent call last)",
            "\u001b[0;32m/tmp/ipython-input-5-3922336393.py\u001b[0m in \u001b[0;36m<cell line: 0>\u001b[0;34m()\u001b[0m\n\u001b[1;32m      1\u001b[0m \u001b[0;31m# Q4: Write a Python script that reads from one file and writes its content to another file\u001b[0m\u001b[0;34m\u001b[0m\u001b[0;34m\u001b[0m\u001b[0m\n\u001b[1;32m      2\u001b[0m \u001b[0;34m\u001b[0m\u001b[0m\n\u001b[0;32m----> 3\u001b[0;31m \u001b[0;32mwith\u001b[0m \u001b[0mopen\u001b[0m\u001b[0;34m(\u001b[0m\u001b[0;34m\"source.txt\"\u001b[0m\u001b[0;34m,\u001b[0m \u001b[0;34m\"r\"\u001b[0m\u001b[0;34m)\u001b[0m \u001b[0;32mas\u001b[0m \u001b[0msrc\u001b[0m\u001b[0;34m,\u001b[0m \u001b[0mopen\u001b[0m\u001b[0;34m(\u001b[0m\u001b[0;34m\"destination.txt\"\u001b[0m\u001b[0;34m,\u001b[0m \u001b[0;34m\"w\"\u001b[0m\u001b[0;34m)\u001b[0m \u001b[0;32mas\u001b[0m \u001b[0mdest\u001b[0m\u001b[0;34m:\u001b[0m\u001b[0;34m\u001b[0m\u001b[0;34m\u001b[0m\u001b[0m\n\u001b[0m\u001b[1;32m      4\u001b[0m     \u001b[0mdest\u001b[0m\u001b[0;34m.\u001b[0m\u001b[0mwrite\u001b[0m\u001b[0;34m(\u001b[0m\u001b[0msrc\u001b[0m\u001b[0;34m.\u001b[0m\u001b[0mread\u001b[0m\u001b[0;34m(\u001b[0m\u001b[0;34m)\u001b[0m\u001b[0;34m)\u001b[0m\u001b[0;34m\u001b[0m\u001b[0;34m\u001b[0m\u001b[0m\n",
            "\u001b[0;31mFileNotFoundError\u001b[0m: [Errno 2] No such file or directory: 'source.txt'"
          ]
        }
      ]
    },
    {
      "cell_type": "code",
      "source": [
        "# Q5: How would you catch and handle division by zero error in Python?\n",
        "\n",
        "try:\n",
        "    result = 10 / 0\n",
        "except ZeroDivisionError:\n",
        "    print(\"You can't divide by zero!\")\n"
      ],
      "metadata": {
        "colab": {
          "base_uri": "https://localhost:8080/"
        },
        "id": "YPgcvkXSmig7",
        "outputId": "5bb838d2-345f-4e16-f263-ee94d968c16a"
      },
      "execution_count": 6,
      "outputs": [
        {
          "output_type": "stream",
          "name": "stdout",
          "text": [
            "You can't divide by zero!\n"
          ]
        }
      ]
    },
    {
      "cell_type": "code",
      "source": [
        "# Q6: Write a Python program that logs an error message to a log file when a division by zero exception occurs\n",
        "\n",
        "import logging\n",
        "\n",
        "logging.basicConfig(filename=\"app.log\", level=logging.ERROR)\n",
        "\n",
        "try:\n",
        "    x = 10 / 0\n",
        "except ZeroDivisionError as e:\n",
        "    logging.error(f\"Division by zero error occurred: {e}\")\n"
      ],
      "metadata": {
        "colab": {
          "base_uri": "https://localhost:8080/"
        },
        "id": "SZFhASHfmmIe",
        "outputId": "e25f7dab-268d-4205-930d-5c9a8795e8a5"
      },
      "execution_count": 7,
      "outputs": [
        {
          "output_type": "stream",
          "name": "stderr",
          "text": [
            "ERROR:root:Division by zero error occurred: division by zero\n"
          ]
        }
      ]
    },
    {
      "cell_type": "code",
      "source": [
        "# Q7: How do you log information at different levels (INFO, ERROR, WARNING) in Python using the logging module\n",
        "\n",
        "import logging\n",
        "\n",
        "logging.basicConfig(level=logging.DEBUG)\n",
        "\n",
        "logging.info(\"This is an INFO message.\")\n",
        "logging.warning(\"This is a WARNING message.\")\n",
        "logging.error(\"This is an ERROR message.\")\n"
      ],
      "metadata": {
        "colab": {
          "base_uri": "https://localhost:8080/"
        },
        "id": "kgqmcfoYmsWO",
        "outputId": "c9672c28-0168-47b9-e9af-0f46ae6003ef"
      },
      "execution_count": 8,
      "outputs": [
        {
          "output_type": "stream",
          "name": "stderr",
          "text": [
            "WARNING:root:This is a WARNING message.\n",
            "ERROR:root:This is an ERROR message.\n"
          ]
        }
      ]
    },
    {
      "cell_type": "code",
      "source": [
        "# Q8: Write a program to handle a file opening error using exception handling\n",
        "\n",
        "try:\n",
        "    with open(\"missingfile.txt\", \"r\") as f:\n",
        "        print(f.read())\n",
        "except FileNotFoundError:\n",
        "    print(\"The file you are trying to open doesn't exist.\")\n"
      ],
      "metadata": {
        "colab": {
          "base_uri": "https://localhost:8080/"
        },
        "id": "y8xKe8w4myI9",
        "outputId": "fdeee4eb-c80f-4172-9cb7-0e4ca1b32bfb"
      },
      "execution_count": 9,
      "outputs": [
        {
          "output_type": "stream",
          "name": "stdout",
          "text": [
            "The file you are trying to open doesn't exist.\n"
          ]
        }
      ]
    },
    {
      "cell_type": "code",
      "source": [
        "# Q9: How can you read a file line by line and store its content in a list in Python\n",
        "\n",
        "lines = []\n",
        "\n",
        "with open(\"output.txt\", \"r\") as f:\n",
        "    lines = f.readlines()\n",
        "\n",
        "print(lines)\n"
      ],
      "metadata": {
        "colab": {
          "base_uri": "https://localhost:8080/"
        },
        "id": "Zu7BogGem0on",
        "outputId": "28ae6492-e084-4a89-c4da-35a835607075"
      },
      "execution_count": 10,
      "outputs": [
        {
          "output_type": "stream",
          "name": "stdout",
          "text": [
            "[\"Hello, this is  Alfiya's assignment!\"]\n"
          ]
        }
      ]
    },
    {
      "cell_type": "code",
      "source": [
        "# Q10: How can you append data to an existing file in Python\n",
        "\n",
        "with open(\"output.txt\", \"a\") as f:\n",
        "    f.write(\"\\nThis is an appended line by  Alfiya.\")\n"
      ],
      "metadata": {
        "id": "-Uo2NBNdm6fx"
      },
      "execution_count": 15,
      "outputs": []
    },
    {
      "cell_type": "code",
      "source": [
        "# Q11: Write a Python program that uses a try-except block to handle an error when attempting to access a dictionary key that doesn't exist\n",
        "\n",
        "my_dict = {\"name\": \"Alfiya\"}\n",
        "\n",
        "try:\n",
        "    print(my_dict[\"age\"])\n",
        "except KeyError:\n",
        "    print(\"Key not found in dictionary.\")\n",
        "\n"
      ],
      "metadata": {
        "colab": {
          "base_uri": "https://localhost:8080/"
        },
        "id": "u9ohMAC2m-CV",
        "outputId": "84a4cb10-dd37-4737-9c6b-83e5e85f1f1f"
      },
      "execution_count": 16,
      "outputs": [
        {
          "output_type": "stream",
          "name": "stdout",
          "text": [
            "Key not found in dictionary.\n"
          ]
        }
      ]
    },
    {
      "cell_type": "code",
      "source": [
        "# Q12: Write a program that demonstrates using multiple except blocks to handle different types of exceptions\n",
        "\n",
        "try:\n",
        "    num = int(\"abc\")\n",
        "    result = 10 / 0\n",
        "except ValueError:\n",
        "    print(\"ValueError: Invalid type conversion.\")\n",
        "except ZeroDivisionError:\n",
        "    print(\"ZeroDivisionError: Cannot divide by zero.\")\n"
      ],
      "metadata": {
        "colab": {
          "base_uri": "https://localhost:8080/"
        },
        "id": "M-18hpNIncBc",
        "outputId": "5d9ddc10-35b7-477f-dd10-b2a3096ed9e5"
      },
      "execution_count": 17,
      "outputs": [
        {
          "output_type": "stream",
          "name": "stdout",
          "text": [
            "ValueError: Invalid type conversion.\n"
          ]
        }
      ]
    },
    {
      "cell_type": "code",
      "source": [
        "# Q13: How would you check if a file exists before attempting to read it in Python\n",
        "\n",
        "import os\n",
        "\n",
        "if os.path.exists(\"output.txt\"):\n",
        "    with open(\"output.txt\", \"r\") as f:\n",
        "        print(f.read())\n",
        "else:\n",
        "    print(\"File does not exist.\")\n",
        "\n"
      ],
      "metadata": {
        "colab": {
          "base_uri": "https://localhost:8080/"
        },
        "id": "DRIQqKE-nfAS",
        "outputId": "2db4b252-fc71-4729-ddbf-2e451f1ae54f"
      },
      "execution_count": 22,
      "outputs": [
        {
          "output_type": "stream",
          "name": "stdout",
          "text": [
            "Hello, this is  Alfiya's assignment!\n",
            "This is an appended line by Focused Alfiya.\n",
            "This is an appended line by  Alfiya.\n"
          ]
        }
      ]
    },
    {
      "cell_type": "code",
      "source": [
        "# Q14: Write a program that uses the logging module to log both informational and error messages\n",
        "\n",
        "import logging\n",
        "\n",
        "logging.basicConfig(filename=\"logfile.log\", level=logging.DEBUG)\n",
        "\n",
        "logging.info(\"This is an informational message.\")\n",
        "try:\n",
        "    x = 1 / 0\n",
        "except ZeroDivisionError as e:\n",
        "    logging.error(f\"Error occurred: {e}\")\n"
      ],
      "metadata": {
        "colab": {
          "base_uri": "https://localhost:8080/"
        },
        "id": "CBzWYZ4OoxBF",
        "outputId": "3a899003-f73b-4d14-db53-aca92fe38733"
      },
      "execution_count": 25,
      "outputs": [
        {
          "output_type": "stream",
          "name": "stderr",
          "text": [
            "ERROR:root:Error occurred: division by zero\n"
          ]
        }
      ]
    },
    {
      "cell_type": "code",
      "source": [
        "# Q15: Write a Python program that prints the content of a file and handles the case when the file is empty\n",
        "\n",
        "filename = \"output.txt\"\n",
        "\n",
        "with open(filename, \"r\") as f:\n",
        "    content = f.read()\n",
        "    if content:\n",
        "        print(content)\n",
        "    else:\n",
        "        print(\"The file is empty.\")\n"
      ],
      "metadata": {
        "colab": {
          "base_uri": "https://localhost:8080/"
        },
        "id": "9KQAWti1ngm6",
        "outputId": "cfc77b9f-711a-4ec7-a7a6-c84ba9f483b1"
      },
      "execution_count": 24,
      "outputs": [
        {
          "output_type": "stream",
          "name": "stdout",
          "text": [
            "Hello, this is  Alfiya's assignment!\n",
            "This is an appended line by Focused Alfiya.\n",
            "This is an appended line by  Alfiya.\n"
          ]
        }
      ]
    },
    {
      "cell_type": "code",
      "source": [
        "# Q17: Write a Python program to create and write a list of numbers to a file, one number per line\n",
        "\n",
        "numbers = list(range(1, 11))\n",
        "\n",
        "with open(\"numbers.txt\", \"w\") as f:\n",
        "    for num in numbers:\n",
        "        f.write(f\"{num}\\n\")\n"
      ],
      "metadata": {
        "id": "AAlg0u0gpVai"
      },
      "execution_count": 28,
      "outputs": []
    },
    {
      "cell_type": "code",
      "source": [
        "# Q18: How would you implement a basic logging setup that logs to a file with rotation after 1MB\n",
        "\n",
        "import logging\n",
        "from logging.handlers import RotatingFileHandler\n",
        "\n",
        "handler = RotatingFileHandler(\"rotated_log.log\", maxBytes=1024*1024, backupCount=3)\n",
        "logging.basicConfig(handlers=[handler], level=logging.INFO)\n",
        "\n",
        "for i in range(1000):\n",
        "    logging.info(f\"Log entry {i}\")\n"
      ],
      "metadata": {
        "id": "J8J5NZQhpfzq"
      },
      "execution_count": 29,
      "outputs": []
    },
    {
      "cell_type": "code",
      "source": [
        "# Q19: Write a program that handles both IndexError and KeyError using a try-except block\n",
        "\n",
        "my_list = [1, 2, 3]\n",
        "my_dict = {\"name\": \"Alfiya\"}\n",
        "\n",
        "try:\n",
        "    print(my_list[5])\n",
        "    print(my_dict[\"age\"])\n",
        "except IndexError:\n",
        "    print(\"IndexError: List index out of range.\")\n",
        "except KeyError:\n",
        "    print(\"KeyError: Key not found in dictionary.\")\n"
      ],
      "metadata": {
        "colab": {
          "base_uri": "https://localhost:8080/"
        },
        "id": "AqMMRZWbphxt",
        "outputId": "66b74f5b-1bae-4678-b116-3602d00fdd68"
      },
      "execution_count": 30,
      "outputs": [
        {
          "output_type": "stream",
          "name": "stdout",
          "text": [
            "IndexError: List index out of range.\n"
          ]
        }
      ]
    },
    {
      "cell_type": "code",
      "source": [
        "# Q20: How would you open a file and read its contents using a context manager in Python\n",
        "\n",
        "with open(\"output.txt\", \"r\") as f:\n",
        "    print(f.read())\n"
      ],
      "metadata": {
        "colab": {
          "base_uri": "https://localhost:8080/"
        },
        "id": "9PfC6H72pjkm",
        "outputId": "7322921f-f43d-46cb-a89f-519487112e31"
      },
      "execution_count": 31,
      "outputs": [
        {
          "output_type": "stream",
          "name": "stdout",
          "text": [
            "Hello, this is  Alfiya's assignment!\n",
            "This is an appended line by Focused Alfiya.\n",
            "This is an appended line by  Alfiya.\n"
          ]
        }
      ]
    },
    {
      "cell_type": "code",
      "source": [
        "# Q21: Write a Python program that reads a file and prints the number of occurrences of a specific word\n",
        "\n",
        "word_to_count = \"Alfiya\"\n",
        "count = 0\n",
        "\n",
        "with open(\"output.txt\", \"r\") as f:\n",
        "    for line in f:\n",
        "        count += line.count(word_to_count)\n",
        "\n",
        "print(f\"The word '{word_to_count}' occurred {count} times.\")\n"
      ],
      "metadata": {
        "colab": {
          "base_uri": "https://localhost:8080/"
        },
        "id": "9cfXqa5GplHb",
        "outputId": "f25df97a-1a5f-4557-ba6e-688dcdab5f70"
      },
      "execution_count": 32,
      "outputs": [
        {
          "output_type": "stream",
          "name": "stdout",
          "text": [
            "The word 'Alfiya' occurred 3 times.\n"
          ]
        }
      ]
    },
    {
      "cell_type": "code",
      "source": [
        "# Q22: How can you check if a file is empty before attempting to read its contents\n",
        "\n",
        "import os\n",
        "\n",
        "if os.path.getsize(\"output.txt\") == 0:\n",
        "    print(\"File is empty.\")\n",
        "else:\n",
        "    with open(\"output.txt\", \"r\") as f:\n",
        "        print(f.read())\n"
      ],
      "metadata": {
        "colab": {
          "base_uri": "https://localhost:8080/"
        },
        "id": "9xatfDiDpncR",
        "outputId": "36a65fba-b62d-4082-b375-02c76f88c3ea"
      },
      "execution_count": 33,
      "outputs": [
        {
          "output_type": "stream",
          "name": "stdout",
          "text": [
            "Hello, this is  Alfiya's assignment!\n",
            "This is an appended line by Focused Alfiya.\n",
            "This is an appended line by  Alfiya.\n"
          ]
        }
      ]
    },
    {
      "cell_type": "code",
      "source": [
        "# Q23: Write a Python program that writes to a log file when an error occurs during file handling.\n",
        "\n",
        "import logging\n",
        "\n",
        "logging.basicConfig(filename=\"file_error.log\", level=logging.ERROR)\n",
        "\n",
        "try:\n",
        "    with open(\"missing.txt\", \"r\") as f:\n",
        "        print(f.read())\n",
        "except FileNotFoundError as e:\n",
        "    logging.error(f\"File error: {e}\")\n"
      ],
      "metadata": {
        "colab": {
          "base_uri": "https://localhost:8080/"
        },
        "id": "4SuctgPIpqCG",
        "outputId": "a17d2e17-166d-4497-d63d-3579921b8431"
      },
      "execution_count": 34,
      "outputs": [
        {
          "output_type": "stream",
          "name": "stderr",
          "text": [
            "ERROR:root:File error: [Errno 2] No such file or directory: 'missing.txt'\n"
          ]
        }
      ]
    },
    {
      "cell_type": "code",
      "source": [],
      "metadata": {
        "id": "53EOQfihpsgs"
      },
      "execution_count": null,
      "outputs": []
    }
  ]
}